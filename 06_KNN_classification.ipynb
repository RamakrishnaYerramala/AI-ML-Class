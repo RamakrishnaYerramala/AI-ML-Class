{
  "nbformat": 4,
  "nbformat_minor": 0,
  "metadata": {
    "colab": {
      "provenance": [],
      "include_colab_link": true
    },
    "kernelspec": {
      "name": "python3",
      "display_name": "Python 3"
    },
    "language_info": {
      "name": "python"
    }
  },
  "cells": [
    {
      "cell_type": "markdown",
      "metadata": {
        "id": "view-in-github",
        "colab_type": "text"
      },
      "source": [
        "<a href=\"https://colab.research.google.com/github/Akshithkumarreddy/Machine_learning_AL/blob/main/06_KNN_classification.ipynb\" target=\"_parent\"><img src=\"https://colab.research.google.com/assets/colab-badge.svg\" alt=\"Open In Colab\"/></a>"
      ]
    },
    {
      "cell_type": "markdown",
      "metadata": {
        "id": "EvgAMk2IpsNQ"
      },
      "source": [
        "**IMPORT HEADERS**"
      ]
    },
    {
      "cell_type": "code",
      "metadata": {
        "id": "69cac090"
      },
      "source": [
        "import numpy as np\n",
        "import pandas as pd\n",
        "from scipy.stats import mode\n",
        "from sklearn.model_selection import train_test_split\n",
        "from sklearn.metrics import accuracy_score"
      ],
      "execution_count": 1,
      "outputs": []
    },
    {
      "cell_type": "markdown",
      "metadata": {
        "id": "7tBGBH4mpvp6"
      },
      "source": [
        "**READ CSV FILE**"
      ]
    },
    {
      "cell_type": "code",
      "metadata": {
        "id": "e0fa6912",
        "colab": {
          "base_uri": "https://localhost:8080/"
        },
        "outputId": "a6669291-f603-4a1c-ed27-e1020830b271"
      },
      "source": [
        "iris = pd.read_csv('Irisdataset.csv')\n",
        "iris.info()"
      ],
      "execution_count": 2,
      "outputs": [
        {
          "output_type": "stream",
          "name": "stdout",
          "text": [
            "<class 'pandas.core.frame.DataFrame'>\n",
            "RangeIndex: 150 entries, 0 to 149\n",
            "Data columns (total 6 columns):\n",
            " #   Column         Non-Null Count  Dtype  \n",
            "---  ------         --------------  -----  \n",
            " 0   Id             150 non-null    int64  \n",
            " 1   SepalLengthCm  150 non-null    float64\n",
            " 2   SepalWidthCm   150 non-null    float64\n",
            " 3   PetalLengthCm  150 non-null    float64\n",
            " 4   PetalWidthCm   150 non-null    float64\n",
            " 5   Species        150 non-null    object \n",
            "dtypes: float64(4), int64(1), object(1)\n",
            "memory usage: 7.2+ KB\n"
          ]
        }
      ]
    },
    {
      "cell_type": "markdown",
      "metadata": {
        "id": "Ii72w5Xtpyov"
      },
      "source": [
        "**REPLACE UNWANTED COLUMNS**"
      ]
    },
    {
      "cell_type": "code",
      "metadata": {
        "id": "QbpmZbHfp2cA"
      },
      "source": [
        "iris.drop(columns=\"Id\",inplace=True)"
      ],
      "execution_count": 3,
      "outputs": []
    },
    {
      "cell_type": "code",
      "source": [
        "iris.info()"
      ],
      "metadata": {
        "id": "-fNIf9bCKO15",
        "outputId": "cf1817f6-1235-4088-9a6f-6f3d4553464c",
        "colab": {
          "base_uri": "https://localhost:8080/"
        }
      },
      "execution_count": 4,
      "outputs": [
        {
          "output_type": "stream",
          "name": "stdout",
          "text": [
            "<class 'pandas.core.frame.DataFrame'>\n",
            "RangeIndex: 150 entries, 0 to 149\n",
            "Data columns (total 5 columns):\n",
            " #   Column         Non-Null Count  Dtype  \n",
            "---  ------         --------------  -----  \n",
            " 0   SepalLengthCm  150 non-null    float64\n",
            " 1   SepalWidthCm   150 non-null    float64\n",
            " 2   PetalLengthCm  150 non-null    float64\n",
            " 3   PetalWidthCm   150 non-null    float64\n",
            " 4   Species        150 non-null    object \n",
            "dtypes: float64(4), object(1)\n",
            "memory usage: 6.0+ KB\n"
          ]
        }
      ]
    },
    {
      "cell_type": "code",
      "source": [
        "missing_values = iris.isnull().sum()\n",
        "missing_values"
      ],
      "metadata": {
        "id": "LZbYEWPxKkCc",
        "outputId": "76a051e6-d74a-4d6f-d082-2f045f357d3e",
        "colab": {
          "base_uri": "https://localhost:8080/",
          "height": 241
        }
      },
      "execution_count": 5,
      "outputs": [
        {
          "output_type": "execute_result",
          "data": {
            "text/plain": [
              "SepalLengthCm    0\n",
              "SepalWidthCm     0\n",
              "PetalLengthCm    0\n",
              "PetalWidthCm     0\n",
              "Species          0\n",
              "dtype: int64"
            ],
            "text/html": [
              "<div>\n",
              "<style scoped>\n",
              "    .dataframe tbody tr th:only-of-type {\n",
              "        vertical-align: middle;\n",
              "    }\n",
              "\n",
              "    .dataframe tbody tr th {\n",
              "        vertical-align: top;\n",
              "    }\n",
              "\n",
              "    .dataframe thead th {\n",
              "        text-align: right;\n",
              "    }\n",
              "</style>\n",
              "<table border=\"1\" class=\"dataframe\">\n",
              "  <thead>\n",
              "    <tr style=\"text-align: right;\">\n",
              "      <th></th>\n",
              "      <th>0</th>\n",
              "    </tr>\n",
              "  </thead>\n",
              "  <tbody>\n",
              "    <tr>\n",
              "      <th>SepalLengthCm</th>\n",
              "      <td>0</td>\n",
              "    </tr>\n",
              "    <tr>\n",
              "      <th>SepalWidthCm</th>\n",
              "      <td>0</td>\n",
              "    </tr>\n",
              "    <tr>\n",
              "      <th>PetalLengthCm</th>\n",
              "      <td>0</td>\n",
              "    </tr>\n",
              "    <tr>\n",
              "      <th>PetalWidthCm</th>\n",
              "      <td>0</td>\n",
              "    </tr>\n",
              "    <tr>\n",
              "      <th>Species</th>\n",
              "      <td>0</td>\n",
              "    </tr>\n",
              "  </tbody>\n",
              "</table>\n",
              "</div><br><label><b>dtype:</b> int64</label>"
            ]
          },
          "metadata": {},
          "execution_count": 5
        }
      ]
    },
    {
      "cell_type": "markdown",
      "metadata": {
        "id": "Vi7TgdGlp-JW"
      },
      "source": [
        "**DIVIDING INTO DATA AND LABEL**"
      ]
    },
    {
      "cell_type": "code",
      "source": [
        "from sklearn.preprocessing import LabelEncoder\n",
        "le = LabelEncoder()\n",
        "iris['Species'] = le.fit_transform(iris['Species'])"
      ],
      "metadata": {
        "id": "Nu36mue6LaIc"
      },
      "execution_count": 6,
      "outputs": []
    },
    {
      "cell_type": "code",
      "metadata": {
        "id": "1ca8135b"
      },
      "source": [
        "X=iris.iloc[:,:-1].values\n",
        "Y=iris.iloc[:,-1].values"
      ],
      "execution_count": 8,
      "outputs": []
    },
    {
      "cell_type": "markdown",
      "metadata": {
        "id": "O-4jo3F7qFsq"
      },
      "source": [
        "**SPLITTING DATA INTO TRAIN & TEST**"
      ]
    },
    {
      "cell_type": "code",
      "metadata": {
        "id": "Y8u2IhsJqM9c"
      },
      "source": [
        "X_train,X_test,Y_train,Y_test=train_test_split(X,Y,test_size=0.2,random_state=0)"
      ],
      "execution_count": 9,
      "outputs": []
    },
    {
      "cell_type": "markdown",
      "metadata": {
        "id": "gQ9F-fjuqSJN"
      },
      "source": [
        "**CHECKING SHAPE OF TRAIN AND TEST DATA**"
      ]
    },
    {
      "cell_type": "code",
      "metadata": {
        "colab": {
          "base_uri": "https://localhost:8080/"
        },
        "id": "6ttiy9myKTyc",
        "outputId": "0c7c1e8e-be03-49d7-a419-e4281b290568"
      },
      "source": [
        "print(\"Shape of X-train : \",X_train.shape)\n",
        "print(\"Shape of Y-train : \",Y_train.shape)\n",
        "\n",
        "print(\"Shape of X-test : \",X_test.shape)\n",
        "print(\"Shape of Y-test : \",Y_test.shape)"
      ],
      "execution_count": 10,
      "outputs": [
        {
          "output_type": "stream",
          "name": "stdout",
          "text": [
            "Shape of X-train :  (120, 4)\n",
            "Shape of Y-train :  (120,)\n",
            "Shape of X-test :  (30, 4)\n",
            "Shape of Y-test :  (30,)\n"
          ]
        }
      ]
    },
    {
      "cell_type": "markdown",
      "metadata": {
        "id": "FTUR6Hjmq0le"
      },
      "source": [
        "**FUNCTION TO CALCULATE EUCLIDEAN DISTANCE**"
      ]
    },
    {
      "cell_type": "code",
      "metadata": {
        "id": "GHpLhA4LoMxS"
      },
      "source": [
        "def eucledian(sample_1, sample_2):\n",
        "    return np.sqrt(np.sum((sample_1-sample_2)**2))"
      ],
      "execution_count": 11,
      "outputs": []
    },
    {
      "cell_type": "markdown",
      "metadata": {
        "id": "Nts2Eh6ZrLTB"
      },
      "source": [
        "**FUNCTION TO DO CLASSIFICATION**"
      ]
    },
    {
      "cell_type": "code",
      "metadata": {
        "id": "E9fZ6qean4IW"
      },
      "source": [
        "def knn_classifier(k, X_train, Y_train, X_test):\n",
        "\n",
        "    output_label = []\n",
        "\n",
        "    for sample in X_test:\n",
        "\n",
        "        sample_distance = []\n",
        "\n",
        "        for j in range(len(X_train)):\n",
        "            sample_distance.append(eucledian(np.array(X_train[j,:]) , sample))\n",
        "        sample_distance = np.array(sample_distance)\n",
        "\n",
        "        indexes = np.argsort(sample_distance)[:k]\n",
        "\n",
        "        labels = Y_train[indexes]\n",
        "\n",
        "        label = mode(labels)\n",
        "        #label = label.mode[0]\n",
        "        label = label.mode\n",
        "        output_label.append(label)\n",
        "\n",
        "    return output_label"
      ],
      "execution_count": 16,
      "outputs": []
    },
    {
      "cell_type": "markdown",
      "metadata": {
        "id": "LCvxRsQR2mHG"
      },
      "source": [
        "**MAKING PREDICTIONS**"
      ]
    },
    {
      "cell_type": "code",
      "metadata": {
        "id": "eJaeEwOnn87b"
      },
      "source": [
        "Y_pred = knn_classifier(5, X_train,Y_train,X_test)"
      ],
      "execution_count": 17,
      "outputs": []
    },
    {
      "cell_type": "markdown",
      "metadata": {
        "id": "UL5g4ecD21jA"
      },
      "source": [
        "**CHECKING ACCURACIES BY VARYING K**"
      ]
    },
    {
      "cell_type": "code",
      "metadata": {
        "colab": {
          "base_uri": "https://localhost:8080/"
        },
        "id": "RXDQB1BJ07aa",
        "outputId": "893c06c2-0077-42ec-f11f-678564ce99cd"
      },
      "source": [
        "for i in range(1,21,2):\n",
        "    print(\"The {}-nn Classifier Accuracy is : {} % tested on {} samples.\".format(i, accuracy_score(Y_test, knn_classifier(i, X_train,Y_train,X_test))*100, len(X_test)))"
      ],
      "execution_count": 18,
      "outputs": [
        {
          "output_type": "stream",
          "name": "stdout",
          "text": [
            "The 1-nn Classifier Accuracy is : 100.0 % tested on 30 samples.\n",
            "The 3-nn Classifier Accuracy is : 96.66666666666667 % tested on 30 samples.\n",
            "The 5-nn Classifier Accuracy is : 96.66666666666667 % tested on 30 samples.\n",
            "The 7-nn Classifier Accuracy is : 100.0 % tested on 30 samples.\n",
            "The 9-nn Classifier Accuracy is : 100.0 % tested on 30 samples.\n",
            "The 11-nn Classifier Accuracy is : 100.0 % tested on 30 samples.\n",
            "The 13-nn Classifier Accuracy is : 100.0 % tested on 30 samples.\n",
            "The 15-nn Classifier Accuracy is : 100.0 % tested on 30 samples.\n",
            "The 17-nn Classifier Accuracy is : 100.0 % tested on 30 samples.\n",
            "The 19-nn Classifier Accuracy is : 100.0 % tested on 30 samples.\n"
          ]
        }
      ]
    }
  ]
}